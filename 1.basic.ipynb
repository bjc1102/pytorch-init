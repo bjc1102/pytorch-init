{
 "cells": [
  {
   "cell_type": "code",
   "execution_count": null,
   "id": "09cadb0f",
   "metadata": {},
   "outputs": [
    {
     "name": "stdout",
     "output_type": "stream",
     "text": [
      "    이름  나이\n",
      "0  김철수  25\n",
      "1  이영희  30\n",
      "2  박민수  35\n"
     ]
    }
   ],
   "source": [
    "import pandas as pd\n",
    "\n",
    "# 기본 사용법\n",
    "df = pd.DataFrame({\n",
    "    '이름': ['김철수', '이영희', '박민수'],\n",
    "    '나이': [25, 30, 35]\n",
    "})\n",
    "\n",
    "# 커스텀 인덱스\n",
    "df = pd.DataFrame({\n",
    "    '이름': ['김철수', '이영희', '박민수'],\n",
    "    '나이': [25, 30, 35]\n",
    "}, index=['A', 'B', 'C'])\n",
    "\n",
    "print(df)"
   ]
  },
  {
   "cell_type": "code",
   "execution_count": 8,
   "id": "868d0481",
   "metadata": {},
   "outputs": [
    {
     "name": "stdout",
     "output_type": "stream",
     "text": [
      "A    김철수\n",
      "B    이영희\n",
      "C    박민수\n",
      "Name: 이름, dtype: object\n",
      "A    25\n",
      "B    30\n",
      "C    35\n",
      "Name: 나이, dtype: int64\n",
      "A    김철수\n",
      "B    이영희\n",
      "C    박민수\n",
      "Name: 이름, dtype: object\n"
     ]
    }
   ],
   "source": [
    "# 열 접근\n",
    "print(df['이름'])              # 컬럼명\n",
    "print(df.loc[:, '나이'])       # loc (모든 행, '나이' 열)\n",
    "print(df.iloc[:, 0])          # iloc (모든 행, 0번 열)"
   ]
  },
  {
   "cell_type": "code",
   "execution_count": null,
   "id": "1a69ae51",
   "metadata": {},
   "outputs": [
    {
     "name": "stdout",
     "output_type": "stream",
     "text": [
      "            온도  습도\n",
      "2024-01-01   5  60\n",
      "2024-01-02   7  65\n",
      "2024-01-03   3  70\n",
      "2024-01-04   8  55\n",
      "2024-01-05  10  50\n"
     ]
    }
   ],
   "source": [
    "# 날짜기반 인덱스 생성\n",
    "dates = pd.date_range('2024-01-01', periods=5, freq='D')\n",
    "df6 = pd.DataFrame({\n",
    "    '온도': [5, 7, 3, 8, 10],\n",
    "    '습도': [60, 65, 70, 55, 50]\n",
    "}, index=dates)\n",
    "\n",
    "print(df6)"
   ]
  },
  {
   "cell_type": "code",
   "execution_count": null,
   "id": "4446f0d4",
   "metadata": {},
   "outputs": [
    {
     "name": "stdout",
     "output_type": "stream",
     "text": [
      "    학번   이름 성별\n",
      "0  101  홍길동  남\n",
      "1  102   오쌤  여\n",
      "2  103  김철수  남\n"
     ]
    }
   ],
   "source": [
    "# 딕셔너리를 통한 생성 가능\n",
    "data = {\n",
    "    '학번': ['101', '102', '103'],\n",
    "    '이름': ['홍길동', '오쌤', '김철수'],\n",
    "    '성별': ['남', '여', '남']\n",
    "}\n",
    "df = pd.DataFrame(data)\n",
    "print(df)"
   ]
  }
 ],
 "metadata": {
  "kernelspec": {
   "display_name": "bjchoi-nlp",
   "language": "python",
   "name": "python3"
  },
  "language_info": {
   "codemirror_mode": {
    "name": "ipython",
    "version": 3
   },
   "file_extension": ".py",
   "mimetype": "text/x-python",
   "name": "python",
   "nbconvert_exporter": "python",
   "pygments_lexer": "ipython3",
   "version": "3.10.18"
  }
 },
 "nbformat": 4,
 "nbformat_minor": 5
}
